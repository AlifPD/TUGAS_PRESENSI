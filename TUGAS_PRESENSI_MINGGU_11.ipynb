{
  "nbformat": 4,
  "nbformat_minor": 0,
  "metadata": {
    "colab": {
      "name": "TUGAS_PRESENSI_MINGGU 11.ipynb",
      "provenance": [],
      "authorship_tag": "ABX9TyORt4erlRZgD0O+gY0O2yeJ",
      "include_colab_link": true
    },
    "kernelspec": {
      "name": "python3",
      "display_name": "Python 3"
    }
  },
  "cells": [
    {
      "cell_type": "markdown",
      "metadata": {
        "id": "view-in-github",
        "colab_type": "text"
      },
      "source": [
        "<a href=\"https://colab.research.google.com/github/AlifPD/TUGAS_PRESENSI/blob/main/TUGAS_PRESENSI_MINGGU_11.ipynb\" target=\"_parent\"><img src=\"https://colab.research.google.com/assets/colab-badge.svg\" alt=\"Open In Colab\"/></a>"
      ]
    },
    {
      "cell_type": "code",
      "metadata": {
        "colab": {
          "base_uri": "https://localhost:8080/"
        },
        "id": "4o-ytO3q3Wvi",
        "outputId": "bc24637c-66ba-40c5-e789-cc780b89eac5"
      },
      "source": [
        "from google.colab import drive\n",
        "drive.mount('/content/drive')"
      ],
      "execution_count": 283,
      "outputs": [
        {
          "output_type": "stream",
          "text": [
            "Drive already mounted at /content/drive; to attempt to forcibly remount, call drive.mount(\"/content/drive\", force_remount=True).\n"
          ],
          "name": "stdout"
        }
      ]
    },
    {
      "cell_type": "code",
      "metadata": {
        "colab": {
          "base_uri": "https://localhost:8080/"
        },
        "id": "hK1YF5T64vBc",
        "outputId": "2f3c2258-4d5f-4f5b-8705-3dcf1b6e049f"
      },
      "source": [
        "cd /content/drive/MyDrive/Colab Notebooks"
      ],
      "execution_count": 284,
      "outputs": [
        {
          "output_type": "stream",
          "text": [
            "/content/drive/MyDrive/Colab Notebooks\n"
          ],
          "name": "stdout"
        }
      ]
    },
    {
      "cell_type": "code",
      "metadata": {
        "id": "krOeiIrY3i4l"
      },
      "source": [
        "# TUGAS PRESENSI MINGGU 11"
      ],
      "execution_count": 285,
      "outputs": []
    },
    {
      "cell_type": "code",
      "metadata": {
        "id": "cj1Q9Vlr3lRo"
      },
      "source": [
        "from keras.models import Sequential\n",
        "from keras.layers import Convolution2D, MaxPooling2D\n",
        "from keras.layers.core import Activation, Flatten, Dense\n",
        "from keras.optimizers import Adam\n",
        "from sklearn.preprocessing import LabelBinarizer\n",
        "from sklearn.model_selection import train_test_split\n",
        "from sklearn.metrics import classification_report\n",
        "import matplotlib.pyplot as plt\n",
        "from PIL import Image\n",
        "from imutils import paths\n",
        "import numpy as np\n",
        "import os\n",
        "import cv2"
      ],
      "execution_count": 286,
      "outputs": []
    },
    {
      "cell_type": "code",
      "metadata": {
        "colab": {
          "base_uri": "https://localhost:8080/"
        },
        "id": "yjvtsH1A3nPf",
        "outputId": "9f758dcc-8284-49ac-a97b-1b14bbdab968"
      },
      "source": [
        "print(\"[INFO] Loading Images ...\")\n",
        "image_paths = paths.list_images('DATASET_DAUN')\n",
        "data = []\n",
        "labels = []\n",
        "\n",
        "for image_path in image_paths :\n",
        "  image = Image.open(image_path)\n",
        "  image = np.array(image.resize((128,128))) / 255.0\n",
        "  data.append(image)\n",
        "  \n",
        "  label = image_path.split(os.path.sep)[-2]\n",
        "  labels.append(label)"
      ],
      "execution_count": 287,
      "outputs": [
        {
          "output_type": "stream",
          "text": [
            "[INFO] Loading Images ...\n"
          ],
          "name": "stdout"
        }
      ]
    },
    {
      "cell_type": "code",
      "metadata": {
        "id": "hOblTBSF36MI"
      },
      "source": [
        "lb = LabelBinarizer()\n",
        "labels = lb.fit_transform(labels)\n",
        "(trainX, testX, trainY, testY) = train_test_split(np.array(data), np.array(labels), test_size=0.3, shuffle=True)"
      ],
      "execution_count": 288,
      "outputs": []
    },
    {
      "cell_type": "code",
      "metadata": {
        "id": "GBQMJT9x4PSd"
      },
      "source": [
        "model = Sequential()\n",
        "model.add(Convolution2D(64, 3, 3, activation='relu', input_shape=(128, 128, 3)))\n",
        "model.add(MaxPooling2D(2, 2))\n",
        "model.add(Convolution2D(128, 3, 3, activation='relu'))\n",
        "model.add(MaxPooling2D(2, 2))\n",
        "\n",
        "model.add(Flatten())\n",
        "model.add(Dense(128, activation='relu'))\n",
        "model.add(Dense(64, activation='relu'))\n",
        "model.add(Dense(64, activation='relu'))\n",
        "model.add(Dense(32, activation='relu')) \n",
        "model.add(Dense(5, activation='softmax'))"
      ],
      "execution_count": 289,
      "outputs": []
    },
    {
      "cell_type": "code",
      "metadata": {
        "id": "hLyn-x-84Rcb"
      },
      "source": [
        "#  model = Sequential(\n",
        "#      [\n",
        "#     Flatten(input_shape=(64*64*3,)),\n",
        "#      Dense(144, activation=\"relu\", name=\"layer1\"),\n",
        "#      Dense(24, activation=\"relu\", name=\"layer2\"),\n",
        "#      Dense(24, activation=\"relu\", name=\"layer3\"),\n",
        "#      Dense(24, activation=\"relu\", name=\"layer4\"),\n",
        "#      Dense(3, activation=\"softmax\", name=\"layer5\"),\n",
        "#      ]\n",
        "#  )"
      ],
      "execution_count": 290,
      "outputs": []
    },
    {
      "cell_type": "code",
      "metadata": {
        "colab": {
          "base_uri": "https://localhost:8080/"
        },
        "id": "StSNeLY94TOW",
        "outputId": "e3f316f1-bda1-429e-a9fe-900bd1d709fb"
      },
      "source": [
        "print(\"[INFO] training network ...\")\n",
        "opt = Adam(lr=1e-3, decay=1e-3 / 50)\n",
        "model.compile(loss=\"categorical_crossentropy\", optimizer=opt, metrics=[\"accuracy\"])\n",
        "H = model.fit(trainX, trainY, validation_data=(testX, testY), epochs=200, batch_size=32)"
      ],
      "execution_count": 291,
      "outputs": [
        {
          "output_type": "stream",
          "text": [
            "[INFO] training network ...\n",
            "Epoch 1/200\n",
            "13/13 [==============================] - 1s 86ms/step - loss: 1.6114 - accuracy: 0.2113 - val_loss: 1.6021 - val_accuracy: 0.2000\n",
            "Epoch 2/200\n",
            "13/13 [==============================] - 1s 73ms/step - loss: 1.5960 - accuracy: 0.2383 - val_loss: 1.5970 - val_accuracy: 0.2000\n",
            "Epoch 3/200\n",
            "13/13 [==============================] - 1s 73ms/step - loss: 1.5239 - accuracy: 0.2727 - val_loss: 1.4444 - val_accuracy: 0.3543\n",
            "Epoch 4/200\n",
            "13/13 [==============================] - 1s 73ms/step - loss: 1.3855 - accuracy: 0.3907 - val_loss: 1.4049 - val_accuracy: 0.4057\n",
            "Epoch 5/200\n",
            "13/13 [==============================] - 1s 73ms/step - loss: 1.2650 - accuracy: 0.4840 - val_loss: 1.2113 - val_accuracy: 0.4800\n",
            "Epoch 6/200\n",
            "13/13 [==============================] - 1s 75ms/step - loss: 1.1519 - accuracy: 0.5135 - val_loss: 1.1770 - val_accuracy: 0.5086\n",
            "Epoch 7/200\n",
            "13/13 [==============================] - 1s 74ms/step - loss: 1.1648 - accuracy: 0.4865 - val_loss: 1.1568 - val_accuracy: 0.5086\n",
            "Epoch 8/200\n",
            "13/13 [==============================] - 1s 72ms/step - loss: 1.1010 - accuracy: 0.5332 - val_loss: 1.0541 - val_accuracy: 0.5714\n",
            "Epoch 9/200\n",
            "13/13 [==============================] - 1s 73ms/step - loss: 1.0629 - accuracy: 0.5528 - val_loss: 1.1333 - val_accuracy: 0.5371\n",
            "Epoch 10/200\n",
            "13/13 [==============================] - 1s 73ms/step - loss: 1.0869 - accuracy: 0.5577 - val_loss: 1.1399 - val_accuracy: 0.5543\n",
            "Epoch 11/200\n",
            "13/13 [==============================] - 1s 72ms/step - loss: 1.0022 - accuracy: 0.6167 - val_loss: 0.9901 - val_accuracy: 0.5829\n",
            "Epoch 12/200\n",
            "13/13 [==============================] - 1s 73ms/step - loss: 0.9067 - accuracy: 0.6339 - val_loss: 0.9834 - val_accuracy: 0.5943\n",
            "Epoch 13/200\n",
            "13/13 [==============================] - 1s 76ms/step - loss: 0.8091 - accuracy: 0.6806 - val_loss: 0.8935 - val_accuracy: 0.6229\n",
            "Epoch 14/200\n",
            "13/13 [==============================] - 1s 74ms/step - loss: 0.7744 - accuracy: 0.6806 - val_loss: 0.9037 - val_accuracy: 0.6400\n",
            "Epoch 15/200\n",
            "13/13 [==============================] - 1s 74ms/step - loss: 0.7207 - accuracy: 0.7199 - val_loss: 0.8528 - val_accuracy: 0.6629\n",
            "Epoch 16/200\n",
            "13/13 [==============================] - 1s 74ms/step - loss: 0.6638 - accuracy: 0.7469 - val_loss: 0.8567 - val_accuracy: 0.6457\n",
            "Epoch 17/200\n",
            "13/13 [==============================] - 1s 74ms/step - loss: 0.6160 - accuracy: 0.7641 - val_loss: 0.7921 - val_accuracy: 0.7029\n",
            "Epoch 18/200\n",
            "13/13 [==============================] - 1s 75ms/step - loss: 0.5592 - accuracy: 0.7813 - val_loss: 1.0024 - val_accuracy: 0.6229\n",
            "Epoch 19/200\n",
            "13/13 [==============================] - 1s 74ms/step - loss: 0.6023 - accuracy: 0.7641 - val_loss: 0.7798 - val_accuracy: 0.7029\n",
            "Epoch 20/200\n",
            "13/13 [==============================] - 1s 74ms/step - loss: 0.4798 - accuracy: 0.8182 - val_loss: 0.7198 - val_accuracy: 0.7543\n",
            "Epoch 21/200\n",
            "13/13 [==============================] - 1s 75ms/step - loss: 0.3882 - accuracy: 0.8526 - val_loss: 0.7202 - val_accuracy: 0.7257\n",
            "Epoch 22/200\n",
            "13/13 [==============================] - 1s 75ms/step - loss: 0.3146 - accuracy: 0.8870 - val_loss: 0.7261 - val_accuracy: 0.7714\n",
            "Epoch 23/200\n",
            "13/13 [==============================] - 1s 75ms/step - loss: 0.3436 - accuracy: 0.8821 - val_loss: 0.7591 - val_accuracy: 0.7429\n",
            "Epoch 24/200\n",
            "13/13 [==============================] - 1s 75ms/step - loss: 0.2673 - accuracy: 0.9042 - val_loss: 0.7262 - val_accuracy: 0.7200\n",
            "Epoch 25/200\n",
            "13/13 [==============================] - 1s 75ms/step - loss: 0.2606 - accuracy: 0.9066 - val_loss: 0.7661 - val_accuracy: 0.7143\n",
            "Epoch 26/200\n",
            "13/13 [==============================] - 1s 74ms/step - loss: 0.2159 - accuracy: 0.9312 - val_loss: 0.6766 - val_accuracy: 0.8057\n",
            "Epoch 27/200\n",
            "13/13 [==============================] - 1s 75ms/step - loss: 0.2098 - accuracy: 0.9140 - val_loss: 0.7065 - val_accuracy: 0.8229\n",
            "Epoch 28/200\n",
            "13/13 [==============================] - 1s 73ms/step - loss: 0.1446 - accuracy: 0.9582 - val_loss: 0.6483 - val_accuracy: 0.8114\n",
            "Epoch 29/200\n",
            "13/13 [==============================] - 1s 74ms/step - loss: 0.1578 - accuracy: 0.9410 - val_loss: 0.6080 - val_accuracy: 0.8457\n",
            "Epoch 30/200\n",
            "13/13 [==============================] - 1s 75ms/step - loss: 0.1210 - accuracy: 0.9607 - val_loss: 0.6410 - val_accuracy: 0.8057\n",
            "Epoch 31/200\n",
            "13/13 [==============================] - 1s 75ms/step - loss: 0.1063 - accuracy: 0.9656 - val_loss: 0.8385 - val_accuracy: 0.7657\n",
            "Epoch 32/200\n",
            "13/13 [==============================] - 1s 75ms/step - loss: 0.0847 - accuracy: 0.9779 - val_loss: 0.7145 - val_accuracy: 0.8057\n",
            "Epoch 33/200\n",
            "13/13 [==============================] - 1s 73ms/step - loss: 0.0804 - accuracy: 0.9828 - val_loss: 0.7859 - val_accuracy: 0.7829\n",
            "Epoch 34/200\n",
            "13/13 [==============================] - 1s 75ms/step - loss: 0.0674 - accuracy: 0.9877 - val_loss: 0.7257 - val_accuracy: 0.8057\n",
            "Epoch 35/200\n",
            "13/13 [==============================] - 1s 75ms/step - loss: 0.1197 - accuracy: 0.9533 - val_loss: 0.6961 - val_accuracy: 0.8286\n",
            "Epoch 36/200\n",
            "13/13 [==============================] - 1s 75ms/step - loss: 0.0683 - accuracy: 0.9779 - val_loss: 0.9016 - val_accuracy: 0.7886\n",
            "Epoch 37/200\n",
            "13/13 [==============================] - 1s 75ms/step - loss: 0.0419 - accuracy: 0.9951 - val_loss: 0.7536 - val_accuracy: 0.8229\n",
            "Epoch 38/200\n",
            "13/13 [==============================] - 1s 75ms/step - loss: 0.0258 - accuracy: 1.0000 - val_loss: 0.7835 - val_accuracy: 0.8229\n",
            "Epoch 39/200\n",
            "13/13 [==============================] - 1s 75ms/step - loss: 0.0177 - accuracy: 1.0000 - val_loss: 0.8033 - val_accuracy: 0.8400\n",
            "Epoch 40/200\n",
            "13/13 [==============================] - 1s 76ms/step - loss: 0.0131 - accuracy: 1.0000 - val_loss: 0.7980 - val_accuracy: 0.8343\n",
            "Epoch 41/200\n",
            "13/13 [==============================] - 1s 75ms/step - loss: 0.0107 - accuracy: 1.0000 - val_loss: 0.7986 - val_accuracy: 0.8343\n",
            "Epoch 42/200\n",
            "13/13 [==============================] - 1s 75ms/step - loss: 0.0101 - accuracy: 1.0000 - val_loss: 0.8332 - val_accuracy: 0.8400\n",
            "Epoch 43/200\n",
            "13/13 [==============================] - 1s 76ms/step - loss: 0.0110 - accuracy: 1.0000 - val_loss: 0.8420 - val_accuracy: 0.8400\n",
            "Epoch 44/200\n",
            "13/13 [==============================] - 1s 76ms/step - loss: 0.0095 - accuracy: 1.0000 - val_loss: 0.8516 - val_accuracy: 0.8343\n",
            "Epoch 45/200\n",
            "13/13 [==============================] - 1s 76ms/step - loss: 0.0098 - accuracy: 1.0000 - val_loss: 0.7823 - val_accuracy: 0.8457\n",
            "Epoch 46/200\n",
            "13/13 [==============================] - 1s 75ms/step - loss: 0.0090 - accuracy: 1.0000 - val_loss: 0.8492 - val_accuracy: 0.8343\n",
            "Epoch 47/200\n",
            "13/13 [==============================] - 1s 76ms/step - loss: 0.0051 - accuracy: 1.0000 - val_loss: 0.8471 - val_accuracy: 0.8286\n",
            "Epoch 48/200\n",
            "13/13 [==============================] - 1s 75ms/step - loss: 0.0045 - accuracy: 1.0000 - val_loss: 0.8330 - val_accuracy: 0.8400\n",
            "Epoch 49/200\n",
            "13/13 [==============================] - 1s 77ms/step - loss: 0.0035 - accuracy: 1.0000 - val_loss: 0.8898 - val_accuracy: 0.8343\n",
            "Epoch 50/200\n",
            "13/13 [==============================] - 1s 77ms/step - loss: 0.0033 - accuracy: 1.0000 - val_loss: 0.8498 - val_accuracy: 0.8343\n",
            "Epoch 51/200\n",
            "13/13 [==============================] - 1s 77ms/step - loss: 0.0031 - accuracy: 1.0000 - val_loss: 0.9109 - val_accuracy: 0.8343\n",
            "Epoch 52/200\n",
            "13/13 [==============================] - 1s 78ms/step - loss: 0.0028 - accuracy: 1.0000 - val_loss: 0.8844 - val_accuracy: 0.8343\n",
            "Epoch 53/200\n",
            "13/13 [==============================] - 1s 77ms/step - loss: 0.0027 - accuracy: 1.0000 - val_loss: 0.9093 - val_accuracy: 0.8400\n",
            "Epoch 54/200\n",
            "13/13 [==============================] - 1s 77ms/step - loss: 0.0024 - accuracy: 1.0000 - val_loss: 0.8954 - val_accuracy: 0.8343\n",
            "Epoch 55/200\n",
            "13/13 [==============================] - 1s 77ms/step - loss: 0.0022 - accuracy: 1.0000 - val_loss: 0.9208 - val_accuracy: 0.8400\n",
            "Epoch 56/200\n",
            "13/13 [==============================] - 1s 77ms/step - loss: 0.0021 - accuracy: 1.0000 - val_loss: 0.9371 - val_accuracy: 0.8343\n",
            "Epoch 57/200\n",
            "13/13 [==============================] - 1s 77ms/step - loss: 0.0020 - accuracy: 1.0000 - val_loss: 0.9339 - val_accuracy: 0.8343\n",
            "Epoch 58/200\n",
            "13/13 [==============================] - 1s 78ms/step - loss: 0.0019 - accuracy: 1.0000 - val_loss: 0.9315 - val_accuracy: 0.8400\n",
            "Epoch 59/200\n",
            "13/13 [==============================] - 1s 77ms/step - loss: 0.0018 - accuracy: 1.0000 - val_loss: 0.9338 - val_accuracy: 0.8343\n",
            "Epoch 60/200\n",
            "13/13 [==============================] - 1s 78ms/step - loss: 0.0017 - accuracy: 1.0000 - val_loss: 0.9442 - val_accuracy: 0.8400\n",
            "Epoch 61/200\n",
            "13/13 [==============================] - 1s 78ms/step - loss: 0.0016 - accuracy: 1.0000 - val_loss: 0.9560 - val_accuracy: 0.8343\n",
            "Epoch 62/200\n",
            "13/13 [==============================] - 1s 77ms/step - loss: 0.0015 - accuracy: 1.0000 - val_loss: 0.9371 - val_accuracy: 0.8343\n",
            "Epoch 63/200\n",
            "13/13 [==============================] - 1s 77ms/step - loss: 0.0014 - accuracy: 1.0000 - val_loss: 0.9802 - val_accuracy: 0.8343\n",
            "Epoch 64/200\n",
            "13/13 [==============================] - 1s 77ms/step - loss: 0.0013 - accuracy: 1.0000 - val_loss: 0.9539 - val_accuracy: 0.8343\n",
            "Epoch 65/200\n",
            "13/13 [==============================] - 1s 76ms/step - loss: 0.0013 - accuracy: 1.0000 - val_loss: 0.9697 - val_accuracy: 0.8343\n",
            "Epoch 66/200\n",
            "13/13 [==============================] - 1s 75ms/step - loss: 0.0012 - accuracy: 1.0000 - val_loss: 0.9762 - val_accuracy: 0.8343\n",
            "Epoch 67/200\n",
            "13/13 [==============================] - 1s 76ms/step - loss: 0.0012 - accuracy: 1.0000 - val_loss: 0.9872 - val_accuracy: 0.8343\n",
            "Epoch 68/200\n",
            "13/13 [==============================] - 1s 76ms/step - loss: 0.0011 - accuracy: 1.0000 - val_loss: 0.9882 - val_accuracy: 0.8343\n",
            "Epoch 69/200\n",
            "13/13 [==============================] - 1s 77ms/step - loss: 0.0011 - accuracy: 1.0000 - val_loss: 0.9901 - val_accuracy: 0.8343\n",
            "Epoch 70/200\n",
            "13/13 [==============================] - 1s 76ms/step - loss: 0.0010 - accuracy: 1.0000 - val_loss: 0.9954 - val_accuracy: 0.8343\n",
            "Epoch 71/200\n",
            "13/13 [==============================] - 1s 74ms/step - loss: 9.9182e-04 - accuracy: 1.0000 - val_loss: 1.0051 - val_accuracy: 0.8343\n",
            "Epoch 72/200\n",
            "13/13 [==============================] - 1s 75ms/step - loss: 9.5091e-04 - accuracy: 1.0000 - val_loss: 0.9895 - val_accuracy: 0.8343\n",
            "Epoch 73/200\n",
            "13/13 [==============================] - 1s 75ms/step - loss: 9.0736e-04 - accuracy: 1.0000 - val_loss: 1.0199 - val_accuracy: 0.8343\n",
            "Epoch 74/200\n",
            "13/13 [==============================] - 1s 76ms/step - loss: 9.1748e-04 - accuracy: 1.0000 - val_loss: 0.9968 - val_accuracy: 0.8343\n",
            "Epoch 75/200\n",
            "13/13 [==============================] - 1s 74ms/step - loss: 8.6152e-04 - accuracy: 1.0000 - val_loss: 1.0225 - val_accuracy: 0.8343\n",
            "Epoch 76/200\n",
            "13/13 [==============================] - 1s 76ms/step - loss: 8.1577e-04 - accuracy: 1.0000 - val_loss: 1.0186 - val_accuracy: 0.8343\n",
            "Epoch 77/200\n",
            "13/13 [==============================] - 1s 76ms/step - loss: 8.0362e-04 - accuracy: 1.0000 - val_loss: 1.0336 - val_accuracy: 0.8343\n",
            "Epoch 78/200\n",
            "13/13 [==============================] - 1s 77ms/step - loss: 7.5475e-04 - accuracy: 1.0000 - val_loss: 1.0203 - val_accuracy: 0.8343\n",
            "Epoch 79/200\n",
            "13/13 [==============================] - 1s 77ms/step - loss: 7.2921e-04 - accuracy: 1.0000 - val_loss: 1.0269 - val_accuracy: 0.8343\n",
            "Epoch 80/200\n",
            "13/13 [==============================] - 1s 75ms/step - loss: 7.1631e-04 - accuracy: 1.0000 - val_loss: 1.0372 - val_accuracy: 0.8343\n",
            "Epoch 81/200\n",
            "13/13 [==============================] - 1s 76ms/step - loss: 7.0399e-04 - accuracy: 1.0000 - val_loss: 1.0423 - val_accuracy: 0.8400\n",
            "Epoch 82/200\n",
            "13/13 [==============================] - 1s 76ms/step - loss: 6.7539e-04 - accuracy: 1.0000 - val_loss: 1.0407 - val_accuracy: 0.8343\n",
            "Epoch 83/200\n",
            "13/13 [==============================] - 1s 76ms/step - loss: 6.3543e-04 - accuracy: 1.0000 - val_loss: 1.0446 - val_accuracy: 0.8343\n",
            "Epoch 84/200\n",
            "13/13 [==============================] - 1s 76ms/step - loss: 6.1697e-04 - accuracy: 1.0000 - val_loss: 1.0496 - val_accuracy: 0.8343\n",
            "Epoch 85/200\n",
            "13/13 [==============================] - 1s 75ms/step - loss: 6.0026e-04 - accuracy: 1.0000 - val_loss: 1.0449 - val_accuracy: 0.8343\n",
            "Epoch 86/200\n",
            "13/13 [==============================] - 1s 76ms/step - loss: 5.8139e-04 - accuracy: 1.0000 - val_loss: 1.0626 - val_accuracy: 0.8343\n",
            "Epoch 87/200\n",
            "13/13 [==============================] - 1s 77ms/step - loss: 5.6065e-04 - accuracy: 1.0000 - val_loss: 1.0550 - val_accuracy: 0.8343\n",
            "Epoch 88/200\n",
            "13/13 [==============================] - 1s 76ms/step - loss: 5.4899e-04 - accuracy: 1.0000 - val_loss: 1.0657 - val_accuracy: 0.8343\n",
            "Epoch 89/200\n",
            "13/13 [==============================] - 1s 77ms/step - loss: 5.2504e-04 - accuracy: 1.0000 - val_loss: 1.0573 - val_accuracy: 0.8343\n",
            "Epoch 90/200\n",
            "13/13 [==============================] - 1s 75ms/step - loss: 5.1204e-04 - accuracy: 1.0000 - val_loss: 1.0699 - val_accuracy: 0.8343\n",
            "Epoch 91/200\n",
            "13/13 [==============================] - 1s 76ms/step - loss: 4.9821e-04 - accuracy: 1.0000 - val_loss: 1.0685 - val_accuracy: 0.8343\n",
            "Epoch 92/200\n",
            "13/13 [==============================] - 1s 76ms/step - loss: 4.8124e-04 - accuracy: 1.0000 - val_loss: 1.0730 - val_accuracy: 0.8343\n",
            "Epoch 93/200\n",
            "13/13 [==============================] - 1s 77ms/step - loss: 4.7504e-04 - accuracy: 1.0000 - val_loss: 1.0772 - val_accuracy: 0.8343\n",
            "Epoch 94/200\n",
            "13/13 [==============================] - 1s 76ms/step - loss: 4.5626e-04 - accuracy: 1.0000 - val_loss: 1.0810 - val_accuracy: 0.8343\n",
            "Epoch 95/200\n",
            "13/13 [==============================] - 1s 76ms/step - loss: 4.4537e-04 - accuracy: 1.0000 - val_loss: 1.0810 - val_accuracy: 0.8343\n",
            "Epoch 96/200\n",
            "13/13 [==============================] - 1s 77ms/step - loss: 4.3631e-04 - accuracy: 1.0000 - val_loss: 1.0893 - val_accuracy: 0.8343\n",
            "Epoch 97/200\n",
            "13/13 [==============================] - 1s 77ms/step - loss: 4.2681e-04 - accuracy: 1.0000 - val_loss: 1.0904 - val_accuracy: 0.8343\n",
            "Epoch 98/200\n",
            "13/13 [==============================] - 1s 76ms/step - loss: 4.1459e-04 - accuracy: 1.0000 - val_loss: 1.0798 - val_accuracy: 0.8343\n",
            "Epoch 99/200\n",
            "13/13 [==============================] - 1s 76ms/step - loss: 3.9934e-04 - accuracy: 1.0000 - val_loss: 1.1081 - val_accuracy: 0.8343\n",
            "Epoch 100/200\n",
            "13/13 [==============================] - 1s 77ms/step - loss: 3.9650e-04 - accuracy: 1.0000 - val_loss: 1.0944 - val_accuracy: 0.8343\n",
            "Epoch 101/200\n",
            "13/13 [==============================] - 1s 76ms/step - loss: 3.7914e-04 - accuracy: 1.0000 - val_loss: 1.1089 - val_accuracy: 0.8343\n",
            "Epoch 102/200\n",
            "13/13 [==============================] - 1s 76ms/step - loss: 3.7143e-04 - accuracy: 1.0000 - val_loss: 1.1024 - val_accuracy: 0.8343\n",
            "Epoch 103/200\n",
            "13/13 [==============================] - 1s 76ms/step - loss: 3.6050e-04 - accuracy: 1.0000 - val_loss: 1.1044 - val_accuracy: 0.8343\n",
            "Epoch 104/200\n",
            "13/13 [==============================] - 1s 76ms/step - loss: 3.5235e-04 - accuracy: 1.0000 - val_loss: 1.1101 - val_accuracy: 0.8343\n",
            "Epoch 105/200\n",
            "13/13 [==============================] - 1s 76ms/step - loss: 3.4368e-04 - accuracy: 1.0000 - val_loss: 1.0999 - val_accuracy: 0.8343\n",
            "Epoch 106/200\n",
            "13/13 [==============================] - 1s 76ms/step - loss: 3.3809e-04 - accuracy: 1.0000 - val_loss: 1.1246 - val_accuracy: 0.8343\n",
            "Epoch 107/200\n",
            "13/13 [==============================] - 1s 77ms/step - loss: 3.3589e-04 - accuracy: 1.0000 - val_loss: 1.1041 - val_accuracy: 0.8343\n",
            "Epoch 108/200\n",
            "13/13 [==============================] - 1s 80ms/step - loss: 3.1627e-04 - accuracy: 1.0000 - val_loss: 1.1294 - val_accuracy: 0.8343\n",
            "Epoch 109/200\n",
            "13/13 [==============================] - 1s 76ms/step - loss: 3.1913e-04 - accuracy: 1.0000 - val_loss: 1.1223 - val_accuracy: 0.8343\n",
            "Epoch 110/200\n",
            "13/13 [==============================] - 1s 76ms/step - loss: 3.0495e-04 - accuracy: 1.0000 - val_loss: 1.1205 - val_accuracy: 0.8343\n",
            "Epoch 111/200\n",
            "13/13 [==============================] - 1s 77ms/step - loss: 3.0026e-04 - accuracy: 1.0000 - val_loss: 1.1315 - val_accuracy: 0.8343\n",
            "Epoch 112/200\n",
            "13/13 [==============================] - 1s 76ms/step - loss: 2.9674e-04 - accuracy: 1.0000 - val_loss: 1.1258 - val_accuracy: 0.8400\n",
            "Epoch 113/200\n",
            "13/13 [==============================] - 1s 76ms/step - loss: 3.0497e-04 - accuracy: 1.0000 - val_loss: 1.1278 - val_accuracy: 0.8343\n",
            "Epoch 114/200\n",
            "13/13 [==============================] - 1s 76ms/step - loss: 2.8112e-04 - accuracy: 1.0000 - val_loss: 1.1438 - val_accuracy: 0.8400\n",
            "Epoch 115/200\n",
            "13/13 [==============================] - 1s 76ms/step - loss: 2.7222e-04 - accuracy: 1.0000 - val_loss: 1.1389 - val_accuracy: 0.8343\n",
            "Epoch 116/200\n",
            "13/13 [==============================] - 1s 77ms/step - loss: 2.6980e-04 - accuracy: 1.0000 - val_loss: 1.1365 - val_accuracy: 0.8343\n",
            "Epoch 117/200\n",
            "13/13 [==============================] - 1s 79ms/step - loss: 2.5918e-04 - accuracy: 1.0000 - val_loss: 1.1425 - val_accuracy: 0.8400\n",
            "Epoch 118/200\n",
            "13/13 [==============================] - 1s 78ms/step - loss: 2.5849e-04 - accuracy: 1.0000 - val_loss: 1.1405 - val_accuracy: 0.8343\n",
            "Epoch 119/200\n",
            "13/13 [==============================] - 1s 77ms/step - loss: 2.4945e-04 - accuracy: 1.0000 - val_loss: 1.1502 - val_accuracy: 0.8343\n",
            "Epoch 120/200\n",
            "13/13 [==============================] - 1s 76ms/step - loss: 2.4362e-04 - accuracy: 1.0000 - val_loss: 1.1493 - val_accuracy: 0.8343\n",
            "Epoch 121/200\n",
            "13/13 [==============================] - 1s 77ms/step - loss: 2.4046e-04 - accuracy: 1.0000 - val_loss: 1.1482 - val_accuracy: 0.8400\n",
            "Epoch 122/200\n",
            "13/13 [==============================] - 1s 76ms/step - loss: 2.3560e-04 - accuracy: 1.0000 - val_loss: 1.1579 - val_accuracy: 0.8343\n",
            "Epoch 123/200\n",
            "13/13 [==============================] - 1s 77ms/step - loss: 2.2932e-04 - accuracy: 1.0000 - val_loss: 1.1491 - val_accuracy: 0.8400\n",
            "Epoch 124/200\n",
            "13/13 [==============================] - 1s 77ms/step - loss: 2.2800e-04 - accuracy: 1.0000 - val_loss: 1.1546 - val_accuracy: 0.8343\n",
            "Epoch 125/200\n",
            "13/13 [==============================] - 1s 75ms/step - loss: 2.1848e-04 - accuracy: 1.0000 - val_loss: 1.1709 - val_accuracy: 0.8400\n",
            "Epoch 126/200\n",
            "13/13 [==============================] - 1s 76ms/step - loss: 2.1617e-04 - accuracy: 1.0000 - val_loss: 1.1596 - val_accuracy: 0.8343\n",
            "Epoch 127/200\n",
            "13/13 [==============================] - 1s 76ms/step - loss: 2.1118e-04 - accuracy: 1.0000 - val_loss: 1.1668 - val_accuracy: 0.8343\n",
            "Epoch 128/200\n",
            "13/13 [==============================] - 1s 78ms/step - loss: 2.0732e-04 - accuracy: 1.0000 - val_loss: 1.1660 - val_accuracy: 0.8400\n",
            "Epoch 129/200\n",
            "13/13 [==============================] - 1s 76ms/step - loss: 2.0300e-04 - accuracy: 1.0000 - val_loss: 1.1702 - val_accuracy: 0.8400\n",
            "Epoch 130/200\n",
            "13/13 [==============================] - 1s 77ms/step - loss: 2.0067e-04 - accuracy: 1.0000 - val_loss: 1.1689 - val_accuracy: 0.8343\n",
            "Epoch 131/200\n",
            "13/13 [==============================] - 1s 77ms/step - loss: 1.9529e-04 - accuracy: 1.0000 - val_loss: 1.1722 - val_accuracy: 0.8400\n",
            "Epoch 132/200\n",
            "13/13 [==============================] - 1s 77ms/step - loss: 1.9311e-04 - accuracy: 1.0000 - val_loss: 1.1839 - val_accuracy: 0.8400\n",
            "Epoch 133/200\n",
            "13/13 [==============================] - 1s 76ms/step - loss: 1.8778e-04 - accuracy: 1.0000 - val_loss: 1.1680 - val_accuracy: 0.8400\n",
            "Epoch 134/200\n",
            "13/13 [==============================] - 1s 77ms/step - loss: 1.8308e-04 - accuracy: 1.0000 - val_loss: 1.1837 - val_accuracy: 0.8400\n",
            "Epoch 135/200\n",
            "13/13 [==============================] - 1s 79ms/step - loss: 1.8065e-04 - accuracy: 1.0000 - val_loss: 1.1839 - val_accuracy: 0.8400\n",
            "Epoch 136/200\n",
            "13/13 [==============================] - 1s 77ms/step - loss: 1.7709e-04 - accuracy: 1.0000 - val_loss: 1.1857 - val_accuracy: 0.8400\n",
            "Epoch 137/200\n",
            "13/13 [==============================] - 1s 78ms/step - loss: 1.7438e-04 - accuracy: 1.0000 - val_loss: 1.1852 - val_accuracy: 0.8400\n",
            "Epoch 138/200\n",
            "13/13 [==============================] - 1s 78ms/step - loss: 1.7086e-04 - accuracy: 1.0000 - val_loss: 1.1871 - val_accuracy: 0.8400\n",
            "Epoch 139/200\n",
            "13/13 [==============================] - 1s 77ms/step - loss: 1.6832e-04 - accuracy: 1.0000 - val_loss: 1.1920 - val_accuracy: 0.8343\n",
            "Epoch 140/200\n",
            "13/13 [==============================] - 1s 77ms/step - loss: 1.6445e-04 - accuracy: 1.0000 - val_loss: 1.1929 - val_accuracy: 0.8400\n",
            "Epoch 141/200\n",
            "13/13 [==============================] - 1s 77ms/step - loss: 1.6150e-04 - accuracy: 1.0000 - val_loss: 1.1945 - val_accuracy: 0.8400\n",
            "Epoch 142/200\n",
            "13/13 [==============================] - 1s 77ms/step - loss: 1.5868e-04 - accuracy: 1.0000 - val_loss: 1.1996 - val_accuracy: 0.8400\n",
            "Epoch 143/200\n",
            "13/13 [==============================] - 1s 77ms/step - loss: 1.5647e-04 - accuracy: 1.0000 - val_loss: 1.2020 - val_accuracy: 0.8400\n",
            "Epoch 144/200\n",
            "13/13 [==============================] - 1s 77ms/step - loss: 1.5305e-04 - accuracy: 1.0000 - val_loss: 1.1963 - val_accuracy: 0.8343\n",
            "Epoch 145/200\n",
            "13/13 [==============================] - 1s 77ms/step - loss: 1.5126e-04 - accuracy: 1.0000 - val_loss: 1.2046 - val_accuracy: 0.8400\n",
            "Epoch 146/200\n",
            "13/13 [==============================] - 1s 77ms/step - loss: 1.4844e-04 - accuracy: 1.0000 - val_loss: 1.2092 - val_accuracy: 0.8400\n",
            "Epoch 147/200\n",
            "13/13 [==============================] - 1s 76ms/step - loss: 1.4513e-04 - accuracy: 1.0000 - val_loss: 1.2004 - val_accuracy: 0.8400\n",
            "Epoch 148/200\n",
            "13/13 [==============================] - 1s 77ms/step - loss: 1.4348e-04 - accuracy: 1.0000 - val_loss: 1.2076 - val_accuracy: 0.8400\n",
            "Epoch 149/200\n",
            "13/13 [==============================] - 1s 78ms/step - loss: 1.4110e-04 - accuracy: 1.0000 - val_loss: 1.2135 - val_accuracy: 0.8343\n",
            "Epoch 150/200\n",
            "13/13 [==============================] - 1s 77ms/step - loss: 1.3829e-04 - accuracy: 1.0000 - val_loss: 1.2139 - val_accuracy: 0.8400\n",
            "Epoch 151/200\n",
            "13/13 [==============================] - 1s 77ms/step - loss: 1.3654e-04 - accuracy: 1.0000 - val_loss: 1.2128 - val_accuracy: 0.8400\n",
            "Epoch 152/200\n",
            "13/13 [==============================] - 1s 77ms/step - loss: 1.3409e-04 - accuracy: 1.0000 - val_loss: 1.2216 - val_accuracy: 0.8343\n",
            "Epoch 153/200\n",
            "13/13 [==============================] - 1s 76ms/step - loss: 1.3122e-04 - accuracy: 1.0000 - val_loss: 1.2194 - val_accuracy: 0.8400\n",
            "Epoch 154/200\n",
            "13/13 [==============================] - 1s 77ms/step - loss: 1.3002e-04 - accuracy: 1.0000 - val_loss: 1.2238 - val_accuracy: 0.8400\n",
            "Epoch 155/200\n",
            "13/13 [==============================] - 1s 77ms/step - loss: 1.2812e-04 - accuracy: 1.0000 - val_loss: 1.2273 - val_accuracy: 0.8343\n",
            "Epoch 156/200\n",
            "13/13 [==============================] - 1s 77ms/step - loss: 1.2715e-04 - accuracy: 1.0000 - val_loss: 1.2208 - val_accuracy: 0.8400\n",
            "Epoch 157/200\n",
            "13/13 [==============================] - 1s 78ms/step - loss: 1.2291e-04 - accuracy: 1.0000 - val_loss: 1.2328 - val_accuracy: 0.8343\n",
            "Epoch 158/200\n",
            "13/13 [==============================] - 1s 77ms/step - loss: 1.2126e-04 - accuracy: 1.0000 - val_loss: 1.2280 - val_accuracy: 0.8343\n",
            "Epoch 159/200\n",
            "13/13 [==============================] - 1s 77ms/step - loss: 1.1892e-04 - accuracy: 1.0000 - val_loss: 1.2286 - val_accuracy: 0.8400\n",
            "Epoch 160/200\n",
            "13/13 [==============================] - 1s 77ms/step - loss: 1.1757e-04 - accuracy: 1.0000 - val_loss: 1.2382 - val_accuracy: 0.8400\n",
            "Epoch 161/200\n",
            "13/13 [==============================] - 1s 76ms/step - loss: 1.1567e-04 - accuracy: 1.0000 - val_loss: 1.2334 - val_accuracy: 0.8343\n",
            "Epoch 162/200\n",
            "13/13 [==============================] - 1s 77ms/step - loss: 1.1394e-04 - accuracy: 1.0000 - val_loss: 1.2324 - val_accuracy: 0.8400\n",
            "Epoch 163/200\n",
            "13/13 [==============================] - 1s 77ms/step - loss: 1.1172e-04 - accuracy: 1.0000 - val_loss: 1.2420 - val_accuracy: 0.8343\n",
            "Epoch 164/200\n",
            "13/13 [==============================] - 1s 76ms/step - loss: 1.1121e-04 - accuracy: 1.0000 - val_loss: 1.2371 - val_accuracy: 0.8343\n",
            "Epoch 165/200\n",
            "13/13 [==============================] - 1s 77ms/step - loss: 1.1010e-04 - accuracy: 1.0000 - val_loss: 1.2427 - val_accuracy: 0.8400\n",
            "Epoch 166/200\n",
            "13/13 [==============================] - 1s 77ms/step - loss: 1.0943e-04 - accuracy: 1.0000 - val_loss: 1.2418 - val_accuracy: 0.8343\n",
            "Epoch 167/200\n",
            "13/13 [==============================] - 1s 78ms/step - loss: 1.0665e-04 - accuracy: 1.0000 - val_loss: 1.2466 - val_accuracy: 0.8400\n",
            "Epoch 168/200\n",
            "13/13 [==============================] - 1s 78ms/step - loss: 1.0365e-04 - accuracy: 1.0000 - val_loss: 1.2461 - val_accuracy: 0.8343\n",
            "Epoch 169/200\n",
            "13/13 [==============================] - 1s 77ms/step - loss: 1.0239e-04 - accuracy: 1.0000 - val_loss: 1.2451 - val_accuracy: 0.8343\n",
            "Epoch 170/200\n",
            "13/13 [==============================] - 1s 78ms/step - loss: 1.0070e-04 - accuracy: 1.0000 - val_loss: 1.2566 - val_accuracy: 0.8400\n",
            "Epoch 171/200\n",
            "13/13 [==============================] - 1s 77ms/step - loss: 9.8785e-05 - accuracy: 1.0000 - val_loss: 1.2448 - val_accuracy: 0.8400\n",
            "Epoch 172/200\n",
            "13/13 [==============================] - 1s 78ms/step - loss: 9.7690e-05 - accuracy: 1.0000 - val_loss: 1.2571 - val_accuracy: 0.8400\n",
            "Epoch 173/200\n",
            "13/13 [==============================] - 1s 81ms/step - loss: 9.5634e-05 - accuracy: 1.0000 - val_loss: 1.2631 - val_accuracy: 0.8343\n",
            "Epoch 174/200\n",
            "13/13 [==============================] - 1s 78ms/step - loss: 9.4655e-05 - accuracy: 1.0000 - val_loss: 1.2548 - val_accuracy: 0.8400\n",
            "Epoch 175/200\n",
            "13/13 [==============================] - 1s 79ms/step - loss: 9.3705e-05 - accuracy: 1.0000 - val_loss: 1.2549 - val_accuracy: 0.8400\n",
            "Epoch 176/200\n",
            "13/13 [==============================] - 1s 78ms/step - loss: 9.1620e-05 - accuracy: 1.0000 - val_loss: 1.2681 - val_accuracy: 0.8343\n",
            "Epoch 177/200\n",
            "13/13 [==============================] - 1s 78ms/step - loss: 9.0933e-05 - accuracy: 1.0000 - val_loss: 1.2670 - val_accuracy: 0.8343\n",
            "Epoch 178/200\n",
            "13/13 [==============================] - 1s 78ms/step - loss: 8.9039e-05 - accuracy: 1.0000 - val_loss: 1.2571 - val_accuracy: 0.8400\n",
            "Epoch 179/200\n",
            "13/13 [==============================] - 1s 77ms/step - loss: 8.9074e-05 - accuracy: 1.0000 - val_loss: 1.2693 - val_accuracy: 0.8343\n",
            "Epoch 180/200\n",
            "13/13 [==============================] - 1s 77ms/step - loss: 8.6360e-05 - accuracy: 1.0000 - val_loss: 1.2666 - val_accuracy: 0.8343\n",
            "Epoch 181/200\n",
            "13/13 [==============================] - 1s 78ms/step - loss: 8.5488e-05 - accuracy: 1.0000 - val_loss: 1.2688 - val_accuracy: 0.8400\n",
            "Epoch 182/200\n",
            "13/13 [==============================] - 1s 78ms/step - loss: 8.4190e-05 - accuracy: 1.0000 - val_loss: 1.2760 - val_accuracy: 0.8343\n",
            "Epoch 183/200\n",
            "13/13 [==============================] - 1s 78ms/step - loss: 8.2829e-05 - accuracy: 1.0000 - val_loss: 1.2710 - val_accuracy: 0.8343\n",
            "Epoch 184/200\n",
            "13/13 [==============================] - 1s 78ms/step - loss: 8.1712e-05 - accuracy: 1.0000 - val_loss: 1.2732 - val_accuracy: 0.8343\n",
            "Epoch 185/200\n",
            "13/13 [==============================] - 1s 78ms/step - loss: 8.0770e-05 - accuracy: 1.0000 - val_loss: 1.2791 - val_accuracy: 0.8343\n",
            "Epoch 186/200\n",
            "13/13 [==============================] - 1s 80ms/step - loss: 7.9752e-05 - accuracy: 1.0000 - val_loss: 1.2823 - val_accuracy: 0.8400\n",
            "Epoch 187/200\n",
            "13/13 [==============================] - 1s 79ms/step - loss: 7.8338e-05 - accuracy: 1.0000 - val_loss: 1.2821 - val_accuracy: 0.8343\n",
            "Epoch 188/200\n",
            "13/13 [==============================] - 1s 79ms/step - loss: 7.7607e-05 - accuracy: 1.0000 - val_loss: 1.2802 - val_accuracy: 0.8343\n",
            "Epoch 189/200\n",
            "13/13 [==============================] - 1s 78ms/step - loss: 7.6352e-05 - accuracy: 1.0000 - val_loss: 1.2845 - val_accuracy: 0.8400\n",
            "Epoch 190/200\n",
            "13/13 [==============================] - 1s 79ms/step - loss: 7.5038e-05 - accuracy: 1.0000 - val_loss: 1.2851 - val_accuracy: 0.8343\n",
            "Epoch 191/200\n",
            "13/13 [==============================] - 1s 77ms/step - loss: 7.4516e-05 - accuracy: 1.0000 - val_loss: 1.2845 - val_accuracy: 0.8343\n",
            "Epoch 192/200\n",
            "13/13 [==============================] - 1s 78ms/step - loss: 7.3021e-05 - accuracy: 1.0000 - val_loss: 1.2923 - val_accuracy: 0.8343\n",
            "Epoch 193/200\n",
            "13/13 [==============================] - 1s 78ms/step - loss: 7.2375e-05 - accuracy: 1.0000 - val_loss: 1.2904 - val_accuracy: 0.8343\n",
            "Epoch 194/200\n",
            "13/13 [==============================] - 1s 78ms/step - loss: 7.1311e-05 - accuracy: 1.0000 - val_loss: 1.2908 - val_accuracy: 0.8343\n",
            "Epoch 195/200\n",
            "13/13 [==============================] - 1s 78ms/step - loss: 7.0107e-05 - accuracy: 1.0000 - val_loss: 1.2920 - val_accuracy: 0.8343\n",
            "Epoch 196/200\n",
            "13/13 [==============================] - 1s 78ms/step - loss: 6.9214e-05 - accuracy: 1.0000 - val_loss: 1.2968 - val_accuracy: 0.8343\n",
            "Epoch 197/200\n",
            "13/13 [==============================] - 1s 78ms/step - loss: 6.8214e-05 - accuracy: 1.0000 - val_loss: 1.2953 - val_accuracy: 0.8343\n",
            "Epoch 198/200\n",
            "13/13 [==============================] - 1s 77ms/step - loss: 6.7297e-05 - accuracy: 1.0000 - val_loss: 1.2989 - val_accuracy: 0.8343\n",
            "Epoch 199/200\n",
            "13/13 [==============================] - 1s 78ms/step - loss: 6.6783e-05 - accuracy: 1.0000 - val_loss: 1.2982 - val_accuracy: 0.8343\n",
            "Epoch 200/200\n",
            "13/13 [==============================] - 1s 77ms/step - loss: 6.6395e-05 - accuracy: 1.0000 - val_loss: 1.3071 - val_accuracy: 0.8343\n"
          ],
          "name": "stdout"
        }
      ]
    },
    {
      "cell_type": "code",
      "metadata": {
        "colab": {
          "base_uri": "https://localhost:8080/",
          "height": 573
        },
        "id": "3Ra02nsU4VLO",
        "outputId": "77705eae-ba95-4427-d797-6889e036c643"
      },
      "source": [
        "plt.plot(H.history['accuracy'])\n",
        "plt.plot(H.history['val_accuracy'])\n",
        "plt.title('model accuracy')\n",
        "plt.ylabel('accuracy')\n",
        "plt.xlabel('epoch')\n",
        "plt.legend(['train', 'test'], loc='upper left')\n",
        "plt.show()\n",
        "\n",
        "plt.plot(H.history['loss'])\n",
        "plt.plot(H.history['val_loss'])\n",
        "plt.title('model loss')\n",
        "plt.ylabel('loss')\n",
        "plt.xlabel('epoch')\n",
        "plt.legend(['train', 'test'], loc='upper left')\n",
        "plt.show()"
      ],
      "execution_count": 292,
      "outputs": [
        {
          "output_type": "display_data",
          "data": {
            "image/png": "[encoded data removed]",
            "text/plain": [
              "<Figure size 432x288 with 1 Axes>"
            ]
          },
          "metadata": {
            "tags": [],
            "needs_background": "light"
          }
        },
        {
          "output_type": "display_data",
          "data": {
            "image/png": "[encoded data removed]",
            "text/plain": [
              "<Figure size 432x288 with 1 Axes>"
            ]
          },
          "metadata": {
            "tags": [],
            "needs_background": "light"
          }
        }
      ]
    },
    {
      "cell_type": "code",
      "metadata": {
        "colab": {
          "base_uri": "https://localhost:8080/"
        },
        "id": "CXeyHRJ34XU1",
        "outputId": "caea4577-6ec6-4946-be77-379315da675d"
      },
      "source": [
        "print(\"[INFO] evaluating network ...\")\n",
        "predictions = model.predict(testX, batch_size=32)\n",
        "print(classification_report(testY.argmax(axis=1), predictions.argmax(axis=1), target_names=lb.classes_))"
      ],
      "execution_count": 293,
      "outputs": [
        {
          "output_type": "stream",
          "text": [
            "[INFO] evaluating network ...\n",
            "              precision    recall  f1-score   support\n",
            "\n",
            "      GMB_02       0.77      0.89      0.82        37\n",
            "      GMB_03       0.87      0.93      0.90        28\n",
            "      GMB_05       0.87      0.77      0.82        35\n",
            "      GMB_07       0.74      0.74      0.74        38\n",
            "      GMB_09       0.97      0.86      0.91        37\n",
            "\n",
            "    accuracy                           0.83       175\n",
            "   macro avg       0.84      0.84      0.84       175\n",
            "weighted avg       0.84      0.83      0.83       175\n",
            "\n"
          ],
          "name": "stdout"
        }
      ]
    },
    {
      "cell_type": "code",
      "metadata": {
        "id": "-YUP0HFA4aKB"
      },
      "source": [
        "#model.save('nnmodel_scene')"
      ],
      "execution_count": 294,
      "outputs": []
    },
    {
      "cell_type": "code",
      "metadata": {
        "id": "n03cpxA74cWp"
      },
      "source": [
        "#  images = ['forest_test.jpg', 'coast_test.jpg']\n",
        "#  for i in range(2) :\n",
        "#    img_array = cv2.imread(images[i])\n",
        "#    img_array = cv2.cvtColor(img_array, cv2.COLOR_BGR2RGB)\n",
        "#    plt.imshow(img_array)\n",
        "#    plt.show()\n",
        "#    image_test = Image.open(images[i])\n",
        "#    image_test = np.array(image_test.resize((64,64))) /255.0\n",
        "#    image_test = np.expand_dims(image_test, axis=0)\n",
        "#    output = model.predict(image_test, 1)\n",
        "#    print(output)\n",
        "#    print(lb.classes_[output.argmax(axis=1)])"
      ],
      "execution_count": 295,
      "outputs": []
    }
  ]
}